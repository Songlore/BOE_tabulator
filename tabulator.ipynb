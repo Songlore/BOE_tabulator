{
 "cells": [
  {
   "cell_type": "markdown",
   "metadata": {},
   "source": [
    "# Board of Estimates Tabulator  \n",
    "The purpose of this software tool is to use the pdf files that store the minutes of Baltimore's Board of Estimates to create a small database with linked tables for entities that could possibly include:\n",
    "\n",
    "- meetings \n",
    "- agreements\n",
    "- contracts\n",
    "- contractors \n",
    "- personnel\n",
    "- reclassifications"
   ]
  },
  {
   "cell_type": "markdown",
   "metadata": {},
   "source": [
    "## Setup\n",
    "### Import packages"
   ]
  },
  {
   "cell_type": "code",
   "execution_count": 28,
   "metadata": {},
   "outputs": [],
   "source": [
    "from datetime import datetime\n",
    "import pandas as pd\n",
    "import requests\n",
    "from bs4 import BeautifulSoup\n",
    "import re\n",
    "from pathlib import Path\n",
    "import time \n",
    "import seaborn as sns\n",
    "import numpy as np\n",
    "\n",
    "from utils import *\n",
    "\n",
    "from pandas.plotting import register_matplotlib_converters\n",
    "register_matplotlib_converters() "
   ]
  },
  {
   "cell_type": "markdown",
   "metadata": {},
   "source": [
    "### Try out a key bit of syntax  \n",
    "Since we will need to transform months into numbers, this bit of syntax is good to bear in mind."
   ]
  },
  {
   "cell_type": "code",
   "execution_count": 2,
   "metadata": {},
   "outputs": [
    {
     "data": {
      "text/plain": [
       "11"
      ]
     },
     "execution_count": 2,
     "metadata": {},
     "output_type": "execute_result"
    }
   ],
   "source": [
    "time.strptime(\"November\", \"%B\").tm_mon"
   ]
  },
  {
   "cell_type": "markdown",
   "metadata": {},
   "source": [
    "### Define directories and urls\n",
    "We'll also create the `pdf_files` directory if it doesn't exist already."
   ]
  },
  {
   "cell_type": "code",
   "execution_count": 3,
   "metadata": {},
   "outputs": [
    {
     "name": "stdout",
     "output_type": "stream",
     "text": [
      "The pdf directory already exists.\n"
     ]
    }
   ],
   "source": [
    "base_url = \"https://comptroller.baltimorecity.gov/\"\n",
    "minutes_url = base_url + \"boe/meetings/minutes\"\n",
    "\n",
    "root = Path.cwd()\n",
    "pdf_dir = root / \"pdf_files\"\n",
    "\n",
    "try:\n",
    "    pdf_dir.mkdir(parents=True, exist_ok=False)\n",
    "except FileExistsError:\n",
    "    print(\"The pdf directory already exists.\")\n",
    "else:\n",
    "    print(\"The pdf directory has been created.\")"
   ]
  },
  {
   "cell_type": "markdown",
   "metadata": {},
   "source": [
    "### Store PDFs to local directory  \n",
    "The following code downloads all the .pdf files with minutes from the Board of Estimates and saves them in your local version of this repository. \n",
    "\n",
    "The code will skip this time-consuming step if it detects files within the `pdf_files` directory.\n",
    "\n",
    "The tricky part of this is getting a correct date for every file. Some files have a typo somewhere in html, so the functions `store_boe_pdfs()` and  `parse_long_dates()` are built to handle these errors. We may see new types of errors appear in the future, however."
   ]
  },
  {
   "cell_type": "code",
   "execution_count": 4,
   "metadata": {},
   "outputs": [
    {
     "name": "stdout",
     "output_type": "stream",
     "text": [
      "Files already exist in the pdf directory.\n"
     ]
    }
   ],
   "source": [
    "if is_empty(pdf_dir):\n",
    "    store_boe_pdfs(base_url, minutes_url)\n",
    "else: \n",
    "    print(\"Files already exist in the pdf directory.\")"
   ]
  },
  {
   "cell_type": "markdown",
   "metadata": {},
   "source": [
    "## Process and prepare data\n",
    "### Create a Pandas dataframe with full texts  \n",
    "Now that we have the .pdf files we need, we're ready to read them and store their text in a Pandas dataframe. \n",
    "\n",
    "This should take about one minute for each year of data."
   ]
  },
  {
   "cell_type": "code",
   "execution_count": 5,
   "metadata": {},
   "outputs": [
    {
     "name": "stderr",
     "output_type": "stream",
     "text": [
      "PdfReadWarning: Xref table not zero-indexed. ID numbers for objects will be corrected. [pdf.py:1736]\n"
     ]
    },
    {
     "name": "stdout",
     "output_type": "stream",
     "text": [
      "Wrote 511 rows to the table of minutes.\n"
     ]
    }
   ],
   "source": [
    "text_df_raw = store_pdf_text_to_df(pdf_dir)"
   ]
  },
  {
   "cell_type": "markdown",
   "metadata": {},
   "source": [
    "### View a sample of the stored text"
   ]
  },
  {
   "cell_type": "code",
   "execution_count": 6,
   "metadata": {},
   "outputs": [
    {
     "data": {
      "text/html": [
       "<div>\n",
       "<style scoped>\n",
       "    .dataframe tbody tr th:only-of-type {\n",
       "        vertical-align: middle;\n",
       "    }\n",
       "\n",
       "    .dataframe tbody tr th {\n",
       "        vertical-align: top;\n",
       "    }\n",
       "\n",
       "    .dataframe thead th {\n",
       "        text-align: right;\n",
       "    }\n",
       "</style>\n",
       "<table border=\"1\" class=\"dataframe\">\n",
       "  <thead>\n",
       "    <tr style=\"text-align: right;\">\n",
       "      <th></th>\n",
       "      <th>date</th>\n",
       "      <th>page_number</th>\n",
       "      <th>minutes</th>\n",
       "    </tr>\n",
       "  </thead>\n",
       "  <tbody>\n",
       "    <tr>\n",
       "      <th>207</th>\n",
       "      <td>2009-06-24</td>\n",
       "      <td>2293</td>\n",
       "      <td>2293 BOARD OF ESTIMATES                       ...</td>\n",
       "    </tr>\n",
       "    <tr>\n",
       "      <th>215</th>\n",
       "      <td>2009-10-07</td>\n",
       "      <td>3766</td>\n",
       "      <td>3766 BOARD OF ESTIMATES  October 07, 2009  MIN...</td>\n",
       "    </tr>\n",
       "    <tr>\n",
       "      <th>164</th>\n",
       "      <td>2012-07-11</td>\n",
       "      <td>2634</td>\n",
       "      <td>2634 BOARD OF ESTIMATES                       ...</td>\n",
       "    </tr>\n",
       "    <tr>\n",
       "      <th>158</th>\n",
       "      <td>2012-05-16</td>\n",
       "      <td>1777</td>\n",
       "      <td>1777 BOARD OF ESTIMATES                       ...</td>\n",
       "    </tr>\n",
       "    <tr>\n",
       "      <th>452</th>\n",
       "      <td>2011-08-17</td>\n",
       "      <td>2654</td>\n",
       "      <td>2654 BOARD OF ESTIMATES                       ...</td>\n",
       "    </tr>\n",
       "    <tr>\n",
       "      <th>451</th>\n",
       "      <td>2011-11-09</td>\n",
       "      <td>3705</td>\n",
       "      <td>3705 BOARD OF ESTIMATES                       ...</td>\n",
       "    </tr>\n",
       "  </tbody>\n",
       "</table>\n",
       "</div>"
      ],
      "text/plain": [
       "           date page_number                                            minutes\n",
       "207  2009-06-24        2293  2293 BOARD OF ESTIMATES                       ...\n",
       "215  2009-10-07        3766  3766 BOARD OF ESTIMATES  October 07, 2009  MIN...\n",
       "164  2012-07-11        2634  2634 BOARD OF ESTIMATES                       ...\n",
       "158  2012-05-16        1777  1777 BOARD OF ESTIMATES                       ...\n",
       "452  2011-08-17        2654  2654 BOARD OF ESTIMATES                       ...\n",
       "451  2011-11-09        3705  3705 BOARD OF ESTIMATES                       ..."
      ]
     },
     "execution_count": 6,
     "metadata": {},
     "output_type": "execute_result"
    }
   ],
   "source": [
    "text_df_raw.sample(6, random_state=444)"
   ]
  },
  {
   "cell_type": "markdown",
   "metadata": {},
   "source": [
    "### Replace erroneous characters and consolidate white spaces\n",
    "Not sure if decision to transform all multiple white spaces to a single white space will work for the long term because we may need to use multiple spaces to detect certain fields.\n",
    "\n",
    "I hope we won't need to do that, though. Currently we're consolidating all multiple white spaces into just one white space."
   ]
  },
  {
   "cell_type": "code",
   "execution_count": 7,
   "metadata": {},
   "outputs": [],
   "source": [
    "text_df = text_df_raw.copy()\n",
    "\n",
    "def replace_chars(val):\n",
    "    val = ' '.join(val.split())\n",
    "    val = val.replace('™', \"'\")\n",
    "    val = val.replace('Œ', \"-\")\n",
    "    return val\n",
    "\n",
    "text_df['text'] = text_df['minutes'].apply(replace_chars)"
   ]
  },
  {
   "cell_type": "code",
   "execution_count": 9,
   "metadata": {},
   "outputs": [
    {
     "name": "stdout",
     "output_type": "stream",
     "text": [
      "4680 BOARD OF ESITMATES November 20, 2013 MINUTES REGULAR MEETING Honorable Bernard C. ﬁJackﬂ Young, President Honorable Stephanie Rawlings-Blake, Mayor - ABSENT Harry Black, Director of Finance Honorable Joan M. Pratt, Comptroller and Secretary George A. Nilson, City Solicitor Alfred H. Foxx, Director of Public Works David E. Ralph, Deputy City Solicitor Rudolph S. Chow, Deputy Director of Public Works Bernice H. Taylor, Deputy Comptroller and Clerk Pursuant to Article VI, Section 1(c) of the r\n"
     ]
    }
   ],
   "source": [
    "# view a sample of the transformed text\n",
    "print(text_df['text'][0][0:500])"
   ]
  },
  {
   "cell_type": "markdown",
   "metadata": {},
   "source": [
    "### Store the date of meeting as the index"
   ]
  },
  {
   "cell_type": "code",
   "execution_count": 10,
   "metadata": {},
   "outputs": [
    {
     "data": {
      "text/html": [
       "<div>\n",
       "<style scoped>\n",
       "    .dataframe tbody tr th:only-of-type {\n",
       "        vertical-align: middle;\n",
       "    }\n",
       "\n",
       "    .dataframe tbody tr th {\n",
       "        vertical-align: top;\n",
       "    }\n",
       "\n",
       "    .dataframe thead th {\n",
       "        text-align: right;\n",
       "    }\n",
       "</style>\n",
       "<table border=\"1\" class=\"dataframe\">\n",
       "  <thead>\n",
       "    <tr style=\"text-align: right;\">\n",
       "      <th></th>\n",
       "      <th>date</th>\n",
       "      <th>page_number</th>\n",
       "      <th>minutes</th>\n",
       "      <th>text</th>\n",
       "      <th>word_count</th>\n",
       "    </tr>\n",
       "    <tr>\n",
       "      <th>date</th>\n",
       "      <th></th>\n",
       "      <th></th>\n",
       "      <th></th>\n",
       "      <th></th>\n",
       "      <th></th>\n",
       "    </tr>\n",
       "  </thead>\n",
       "  <tbody>\n",
       "    <tr>\n",
       "      <th>2013-11-20</th>\n",
       "      <td>2013-11-20</td>\n",
       "      <td>4680</td>\n",
       "      <td>4680  BOARD OF ESITMATES  November 20, 2013 MI...</td>\n",
       "      <td>4680 BOARD OF ESITMATES November 20, 2013 MINU...</td>\n",
       "      <td>22448</td>\n",
       "    </tr>\n",
       "    <tr>\n",
       "      <th>2013-01-30</th>\n",
       "      <td>2013-01-30</td>\n",
       "      <td>280</td>\n",
       "      <td>280 BOARD OF ESTIMATES  JANUARY 30, 2013 MINUT...</td>\n",
       "      <td>280 BOARD OF ESTIMATES JANUARY 30, 2013 MINUTE...</td>\n",
       "      <td>11455</td>\n",
       "    </tr>\n",
       "    <tr>\n",
       "      <th>2013-08-14</th>\n",
       "      <td>2013-08-14</td>\n",
       "      <td>3045</td>\n",
       "      <td>3045 BOARD OF ESTIMATES  August 14, 2013 MINUT...</td>\n",
       "      <td>3045 BOARD OF ESTIMATES August 14, 2013 MINUTE...</td>\n",
       "      <td>42186</td>\n",
       "    </tr>\n",
       "  </tbody>\n",
       "</table>\n",
       "</div>"
      ],
      "text/plain": [
       "                 date page_number  \\\n",
       "date                                \n",
       "2013-11-20 2013-11-20        4680   \n",
       "2013-01-30 2013-01-30         280   \n",
       "2013-08-14 2013-08-14        3045   \n",
       "\n",
       "                                                      minutes  \\\n",
       "date                                                            \n",
       "2013-11-20  4680  BOARD OF ESITMATES  November 20, 2013 MI...   \n",
       "2013-01-30  280 BOARD OF ESTIMATES  JANUARY 30, 2013 MINUT...   \n",
       "2013-08-14  3045 BOARD OF ESTIMATES  August 14, 2013 MINUT...   \n",
       "\n",
       "                                                         text  word_count  \n",
       "date                                                                       \n",
       "2013-11-20  4680 BOARD OF ESITMATES November 20, 2013 MINU...       22448  \n",
       "2013-01-30  280 BOARD OF ESTIMATES JANUARY 30, 2013 MINUTE...       11455  \n",
       "2013-08-14  3045 BOARD OF ESTIMATES August 14, 2013 MINUTE...       42186  "
      ]
     },
     "execution_count": 10,
     "metadata": {},
     "output_type": "execute_result"
    }
   ],
   "source": [
    "text_df['date'] = pd.to_datetime(text_df['date'])\n",
    "text_df = text_df.set_index('date', drop=False)\n",
    "text_df['word_count'] = text_df['text'].apply(lambda x: len(x.split()))\n",
    "\n",
    "text_df.head(3)"
   ]
  },
  {
   "cell_type": "markdown",
   "metadata": {},
   "source": [
    "## Compute and visualize a few basic features\n",
    "Let's see how two very basic features change over time:\n",
    "\n",
    "- Meetings per year\n",
    "- Total word count of all meetings per year"
   ]
  },
  {
   "cell_type": "code",
   "execution_count": 12,
   "metadata": {},
   "outputs": [
    {
     "data": {
      "text/html": [
       "<div>\n",
       "<style scoped>\n",
       "    .dataframe tbody tr th:only-of-type {\n",
       "        vertical-align: middle;\n",
       "    }\n",
       "\n",
       "    .dataframe tbody tr th {\n",
       "        vertical-align: top;\n",
       "    }\n",
       "\n",
       "    .dataframe thead th {\n",
       "        text-align: right;\n",
       "    }\n",
       "</style>\n",
       "<table border=\"1\" class=\"dataframe\">\n",
       "  <thead>\n",
       "    <tr style=\"text-align: right;\">\n",
       "      <th></th>\n",
       "      <th>date</th>\n",
       "      <th>minutes</th>\n",
       "    </tr>\n",
       "  </thead>\n",
       "  <tbody>\n",
       "    <tr>\n",
       "      <th>0</th>\n",
       "      <td>2009-12-31</td>\n",
       "      <td>44</td>\n",
       "    </tr>\n",
       "    <tr>\n",
       "      <th>1</th>\n",
       "      <td>2010-12-31</td>\n",
       "      <td>44</td>\n",
       "    </tr>\n",
       "    <tr>\n",
       "      <th>2</th>\n",
       "      <td>2011-12-31</td>\n",
       "      <td>46</td>\n",
       "    </tr>\n",
       "  </tbody>\n",
       "</table>\n",
       "</div>"
      ],
      "text/plain": [
       "        date  minutes\n",
       "0 2009-12-31       44\n",
       "1 2010-12-31       44\n",
       "2 2011-12-31       46"
      ]
     },
     "execution_count": 12,
     "metadata": {},
     "output_type": "execute_result"
    }
   ],
   "source": [
    "meetings_per_year = text_df['minutes'].groupby(pd.Grouper(freq=\"Y\")).count().reset_index()\n",
    "meetings_per_year = meetings_per_year[meetings_per_year['date'] < '2020']\n",
    "meetings_per_year.head(3)"
   ]
  },
  {
   "cell_type": "code",
   "execution_count": 15,
   "metadata": {},
   "outputs": [
    {
     "data": {
      "image/png": "[encoded data removed]",
      "text/plain": [
       "<Figure size 432x288 with 1 Axes>"
      ]
     },
     "metadata": {
      "needs_background": "light"
     },
     "output_type": "display_data"
    }
   ],
   "source": [
    "ax = sns.lineplot(x='date', y='minutes', data=meetings_per_year)\n",
    "\n",
    "ax.set(title=\"Meetings Per Year\", ylabel=\"Meetings\", ylim=(30, 50))\n",
    "\n",
    "sns.despine()"
   ]
  },
  {
   "cell_type": "code",
   "execution_count": 17,
   "metadata": {},
   "outputs": [
    {
     "data": {
      "text/html": [
       "<div>\n",
       "<style scoped>\n",
       "    .dataframe tbody tr th:only-of-type {\n",
       "        vertical-align: middle;\n",
       "    }\n",
       "\n",
       "    .dataframe tbody tr th {\n",
       "        vertical-align: top;\n",
       "    }\n",
       "\n",
       "    .dataframe thead th {\n",
       "        text-align: right;\n",
       "    }\n",
       "</style>\n",
       "<table border=\"1\" class=\"dataframe\">\n",
       "  <thead>\n",
       "    <tr style=\"text-align: right;\">\n",
       "      <th></th>\n",
       "      <th>date</th>\n",
       "      <th>word_count</th>\n",
       "    </tr>\n",
       "  </thead>\n",
       "  <tbody>\n",
       "    <tr>\n",
       "      <th>0</th>\n",
       "      <td>2009-12-31</td>\n",
       "      <td>777035</td>\n",
       "    </tr>\n",
       "    <tr>\n",
       "      <th>1</th>\n",
       "      <td>2010-12-31</td>\n",
       "      <td>763262</td>\n",
       "    </tr>\n",
       "    <tr>\n",
       "      <th>2</th>\n",
       "      <td>2011-12-31</td>\n",
       "      <td>814751</td>\n",
       "    </tr>\n",
       "  </tbody>\n",
       "</table>\n",
       "</div>"
      ],
      "text/plain": [
       "        date  word_count\n",
       "0 2009-12-31      777035\n",
       "1 2010-12-31      763262\n",
       "2 2011-12-31      814751"
      ]
     },
     "execution_count": 17,
     "metadata": {},
     "output_type": "execute_result"
    }
   ],
   "source": [
    "words_per_year = text_df.groupby(pd.Grouper(freq=\"Y\"))['word_count'].sum().reset_index()\n",
    "words_per_year = words_per_year[words_per_year['date'] < '2020']\n",
    "words_per_year.head(3)"
   ]
  },
  {
   "cell_type": "code",
   "execution_count": 18,
   "metadata": {},
   "outputs": [
    {
     "data": {
      "image/png": "[encoded data removed]",
      "text/plain": [
       "<Figure size 432x288 with 1 Axes>"
      ]
     },
     "metadata": {
      "needs_background": "light"
     },
     "output_type": "display_data"
    }
   ],
   "source": [
    "ax = sns.lineplot(x='date', y='word_count', data=words_per_year)\n",
    "\n",
    "ax.set(title=\"Word Count Per Year\", ylabel=\"Words\", ylim=(0, 1_250_000))\n",
    "\n",
    "sns.despine()"
   ]
  },
  {
   "cell_type": "markdown",
   "metadata": {},
   "source": [
    "## Tabulate data\n",
    "### Create empty dataframes"
   ]
  },
  {
   "cell_type": "code",
   "execution_count": 19,
   "metadata": {},
   "outputs": [],
   "source": [
    "def create_dateframes():\n",
    "    meetings_df = pd.DataFrame(\n",
    "        columns=[\"date\", \"president\", \"mayor\", \"no_of_protests\", \"no_of_settlements\",]\n",
    "    )\n",
    "    agreements_df = pd.DataFrame(\n",
    "        columns=[\"date\", \"department\", \"contractor\", \"account_number\", \"agreement\",]\n",
    "    )\n",
    "    accounts_df = pd.DataFrame(\n",
    "        columns=[\"date\", \"account_number\",]\n",
    "    )\n",
    "    \n",
    "    return meetings_df, agreements_df, accounts_df\n",
    "\n",
    "agreements_df, meetings_df, accounts_df = create_dateframes()"
   ]
  },
  {
   "cell_type": "markdown",
   "metadata": {},
   "source": [
    "### Test out account regex"
   ]
  },
  {
   "cell_type": "code",
   "execution_count": 20,
   "metadata": {},
   "outputs": [
    {
     "data": {
      "text/plain": [
       "1"
      ]
     },
     "execution_count": 20,
     "metadata": {},
     "output_type": "execute_result"
    }
   ],
   "source": [
    "account_lookup = r\"\\d{4}-\\d{6}-\\d{4}-\\d{6}-\\d{6}\"\n",
    "sample_text = text_df['text'][-7]\n",
    "sample_text = '5000-585919-1191-719000-603096'\n",
    "list_of_accounts = list(re.findall(re.compile(account_lookup), sample_text))\n",
    "len(list_of_accounts)"
   ]
  },
  {
   "cell_type": "markdown",
   "metadata": {},
   "source": [
    "### List all account numbers for each meeting"
   ]
  },
  {
   "cell_type": "code",
   "execution_count": 27,
   "metadata": {},
   "outputs": [
    {
     "data": {
      "text/html": [
       "<div>\n",
       "<style scoped>\n",
       "    .dataframe tbody tr th:only-of-type {\n",
       "        vertical-align: middle;\n",
       "    }\n",
       "\n",
       "    .dataframe tbody tr th {\n",
       "        vertical-align: top;\n",
       "    }\n",
       "\n",
       "    .dataframe thead th {\n",
       "        text-align: right;\n",
       "    }\n",
       "</style>\n",
       "<table border=\"1\" class=\"dataframe\">\n",
       "  <thead>\n",
       "    <tr style=\"text-align: right;\">\n",
       "      <th></th>\n",
       "      <th>date</th>\n",
       "      <th>page_number</th>\n",
       "      <th>minutes</th>\n",
       "      <th>text</th>\n",
       "      <th>word_count</th>\n",
       "      <th>accounts</th>\n",
       "    </tr>\n",
       "    <tr>\n",
       "      <th>date</th>\n",
       "      <th></th>\n",
       "      <th></th>\n",
       "      <th></th>\n",
       "      <th></th>\n",
       "      <th></th>\n",
       "      <th></th>\n",
       "    </tr>\n",
       "  </thead>\n",
       "  <tbody>\n",
       "    <tr>\n",
       "      <th>2013-11-20</th>\n",
       "      <td>2013-11-20</td>\n",
       "      <td>4680</td>\n",
       "      <td>4680  BOARD OF ESITMATES  November 20, 2013 MI...</td>\n",
       "      <td>4680 BOARD OF ESITMATES November 20, 2013 MINU...</td>\n",
       "      <td>22448</td>\n",
       "      <td>[4000-496313-3573-591219-603051, 2089-208914-5...</td>\n",
       "    </tr>\n",
       "    <tr>\n",
       "      <th>2013-01-30</th>\n",
       "      <td>2013-01-30</td>\n",
       "      <td>280</td>\n",
       "      <td>280 BOARD OF ESTIMATES  JANUARY 30, 2013 MINUT...</td>\n",
       "      <td>280 BOARD OF ESTIMATES JANUARY 30, 2013 MINUTE...</td>\n",
       "      <td>11455</td>\n",
       "      <td>[9905-922004-9188-900000-709047, 4000-807513-6...</td>\n",
       "    </tr>\n",
       "    <tr>\n",
       "      <th>2013-08-14</th>\n",
       "      <td>2013-08-14</td>\n",
       "      <td>3045</td>\n",
       "      <td>3045 BOARD OF ESTIMATES  August 14, 2013 MINUT...</td>\n",
       "      <td>3045 BOARD OF ESTIMATES August 14, 2013 MINUTE...</td>\n",
       "      <td>42186</td>\n",
       "      <td>[2032-000000-1330-158400-605008, 2044-000000-1...</td>\n",
       "    </tr>\n",
       "    <tr>\n",
       "      <th>2013-08-28</th>\n",
       "      <td>2013-08-28</td>\n",
       "      <td>3346</td>\n",
       "      <td>3346 BOARD OF ESTIMATES  AUGUST 28, 2013 MINUT...</td>\n",
       "      <td>3346 BOARD OF ESTIMATES AUGUST 28, 2013 MINUTE...</td>\n",
       "      <td>25506</td>\n",
       "      <td>[5000-598014-2252-688000-600000, 5000-598314-2...</td>\n",
       "    </tr>\n",
       "    <tr>\n",
       "      <th>2013-06-05</th>\n",
       "      <td>2013-06-05</td>\n",
       "      <td>2018</td>\n",
       "      <td>2018 BOARD OF ESTIMATES  JUNE 05, 2013 MINUTES...</td>\n",
       "      <td>2018 BOARD OF ESTIMATES JUNE 05, 2013 MINUTES ...</td>\n",
       "      <td>22474</td>\n",
       "      <td>[2036-000000-1752-175200-603070, 1001-000000-1...</td>\n",
       "    </tr>\n",
       "  </tbody>\n",
       "</table>\n",
       "</div>"
      ],
      "text/plain": [
       "                 date page_number  \\\n",
       "date                                \n",
       "2013-11-20 2013-11-20        4680   \n",
       "2013-01-30 2013-01-30         280   \n",
       "2013-08-14 2013-08-14        3045   \n",
       "2013-08-28 2013-08-28        3346   \n",
       "2013-06-05 2013-06-05        2018   \n",
       "\n",
       "                                                      minutes  \\\n",
       "date                                                            \n",
       "2013-11-20  4680  BOARD OF ESITMATES  November 20, 2013 MI...   \n",
       "2013-01-30  280 BOARD OF ESTIMATES  JANUARY 30, 2013 MINUT...   \n",
       "2013-08-14  3045 BOARD OF ESTIMATES  August 14, 2013 MINUT...   \n",
       "2013-08-28  3346 BOARD OF ESTIMATES  AUGUST 28, 2013 MINUT...   \n",
       "2013-06-05  2018 BOARD OF ESTIMATES  JUNE 05, 2013 MINUTES...   \n",
       "\n",
       "                                                         text  word_count  \\\n",
       "date                                                                        \n",
       "2013-11-20  4680 BOARD OF ESITMATES November 20, 2013 MINU...       22448   \n",
       "2013-01-30  280 BOARD OF ESTIMATES JANUARY 30, 2013 MINUTE...       11455   \n",
       "2013-08-14  3045 BOARD OF ESTIMATES August 14, 2013 MINUTE...       42186   \n",
       "2013-08-28  3346 BOARD OF ESTIMATES AUGUST 28, 2013 MINUTE...       25506   \n",
       "2013-06-05  2018 BOARD OF ESTIMATES JUNE 05, 2013 MINUTES ...       22474   \n",
       "\n",
       "                                                     accounts  \n",
       "date                                                           \n",
       "2013-11-20  [4000-496313-3573-591219-603051, 2089-208914-5...  \n",
       "2013-01-30  [9905-922004-9188-900000-709047, 4000-807513-6...  \n",
       "2013-08-14  [2032-000000-1330-158400-605008, 2044-000000-1...  \n",
       "2013-08-28  [5000-598014-2252-688000-600000, 5000-598314-2...  \n",
       "2013-06-05  [2036-000000-1752-175200-603070, 1001-000000-1...  "
      ]
     },
     "execution_count": 27,
     "metadata": {},
     "output_type": "execute_result"
    }
   ],
   "source": [
    "def find_all_accounts(row):\n",
    "    account_lookup = r\"\\d{4}-\\d{6}-\\d{4}-\\d{6}-\\d{6}\"\n",
    "    meeting_date = row['date']\n",
    "    list_of_accounts = list(re.findall(re.compile(account_lookup), row['text']))\n",
    "    return list_of_accounts\n",
    "    \n",
    "\n",
    "text_df['accounts'] = text_df.apply(find_all_accounts, axis=1)\n",
    "text_df.head()"
   ]
  },
  {
   "cell_type": "markdown",
   "metadata": {},
   "source": [
    "### Unnest account numbers\n",
    "This takes all the account numbers that were stored together in a list and makes each one its own row."
   ]
  },
  {
   "cell_type": "code",
   "execution_count": 22,
   "metadata": {},
   "outputs": [],
   "source": [
    "def unnesting(df, explode):\n",
    "    idx = df.index.repeat(df[explode[0]].str.len())\n",
    "    df1 = pd.concat([\n",
    "        pd.DataFrame({x: np.concatenate(df[x].values)}) for x in explode], axis=1)\n",
    "    df1.index = idx\n",
    "    return df1.join(df.drop(explode, 1), how='left')\n",
    "\n",
    "        \n",
    "accounts_df = unnesting(text_df,['accounts'])"
   ]
  },
  {
   "cell_type": "markdown",
   "metadata": {},
   "source": [
    "### Count the account numbers mentioned per year\n",
    "Not sure if this is the right approach to dropping duplicate account numbers, but for now I'm dropping anything where the same account is mentioned in the same meeting."
   ]
  },
  {
   "cell_type": "code",
   "execution_count": 23,
   "metadata": {},
   "outputs": [
    {
     "data": {
      "text/html": [
       "<div>\n",
       "<style scoped>\n",
       "    .dataframe tbody tr th:only-of-type {\n",
       "        vertical-align: middle;\n",
       "    }\n",
       "\n",
       "    .dataframe tbody tr th {\n",
       "        vertical-align: top;\n",
       "    }\n",
       "\n",
       "    .dataframe thead th {\n",
       "        text-align: right;\n",
       "    }\n",
       "</style>\n",
       "<table border=\"1\" class=\"dataframe\">\n",
       "  <thead>\n",
       "    <tr style=\"text-align: right;\">\n",
       "      <th></th>\n",
       "      <th>date</th>\n",
       "      <th>accounts</th>\n",
       "    </tr>\n",
       "  </thead>\n",
       "  <tbody>\n",
       "    <tr>\n",
       "      <th>0</th>\n",
       "      <td>2009-12-31</td>\n",
       "      <td>1532</td>\n",
       "    </tr>\n",
       "    <tr>\n",
       "      <th>1</th>\n",
       "      <td>2010-12-31</td>\n",
       "      <td>2022</td>\n",
       "    </tr>\n",
       "    <tr>\n",
       "      <th>2</th>\n",
       "      <td>2011-12-31</td>\n",
       "      <td>1813</td>\n",
       "    </tr>\n",
       "    <tr>\n",
       "      <th>3</th>\n",
       "      <td>2012-12-31</td>\n",
       "      <td>1945</td>\n",
       "    </tr>\n",
       "    <tr>\n",
       "      <th>4</th>\n",
       "      <td>2013-12-31</td>\n",
       "      <td>1974</td>\n",
       "    </tr>\n",
       "  </tbody>\n",
       "</table>\n",
       "</div>"
      ],
      "text/plain": [
       "        date  accounts\n",
       "0 2009-12-31      1532\n",
       "1 2010-12-31      2022\n",
       "2 2011-12-31      1813\n",
       "3 2012-12-31      1945\n",
       "4 2013-12-31      1974"
      ]
     },
     "execution_count": 23,
     "metadata": {},
     "output_type": "execute_result"
    }
   ],
   "source": [
    "#accounts_df = accounts_df.drop_duplicates(subset=['date', 'accounts'], keep='last')\n",
    "accounts_df = accounts_df.drop_duplicates(subset=['date', 'accounts'], keep='last')\n",
    "accounts_per_year = accounts_df.groupby(pd.Grouper(freq=\"Y\"))['accounts'].count().reset_index()\n",
    "\n",
    "accounts_per_year.head()"
   ]
  },
  {
   "cell_type": "markdown",
   "metadata": {},
   "source": [
    "### Hmm. That's weird.\n",
    "Looks like accounts dropped off quickly in 2015."
   ]
  },
  {
   "cell_type": "code",
   "execution_count": 30,
   "metadata": {},
   "outputs": [
    {
     "data": {
      "image/png": "[encoded data removed]",
      "text/plain": [
       "<Figure size 432x288 with 1 Axes>"
      ]
     },
     "metadata": {
      "needs_background": "light"
     },
     "output_type": "display_data"
    }
   ],
   "source": [
    "ax = sns.lineplot(x='date', y='accounts', data=accounts_per_year)\n",
    "\n",
    "ax.set(title=\"Account Numbers Per Year\", ylabel=\"Accounts\", ylim=(0, 2200))\n",
    "\n",
    "sns.despine()"
   ]
  },
  {
   "cell_type": "code",
   "execution_count": null,
   "metadata": {},
   "outputs": [],
   "source": [
    "#^.+?(?=(\\s–|-\\s).*Agreements)\n",
    "# department_lookup = r\"^.+?(?=–|-.*Agreements)\"\n",
    "# department_lookup = r\"(?<=MINUTES).+?(?=(\\s–|-\\s).*)\"\n",
    "# department_lookup = r\"(?<=MINUTES).+(?=(\\s-\\s))\""
   ]
  }
 ],
 "metadata": {
  "kernelspec": {
   "display_name": "Python 3",
   "language": "python",
   "name": "python3"
  },
  "language_info": {
   "codemirror_mode": {
    "name": "ipython",
    "version": 3
   },
   "file_extension": ".py",
   "mimetype": "text/x-python",
   "name": "python",
   "nbconvert_exporter": "python",
   "pygments_lexer": "ipython3",
   "version": "3.6.10"
  },
  "toc": {
   "base_numbering": 1,
   "nav_menu": {},
   "number_sections": true,
   "sideBar": true,
   "skip_h1_title": true,
   "title_cell": "Table of Contents",
   "title_sidebar": "Contents",
   "toc_cell": false,
   "toc_position": {
    "height": "calc(100% - 180px)",
    "left": "10px",
    "top": "150px",
    "width": "239.549px"
   },
   "toc_section_display": true,
   "toc_window_display": true
  }
 },
 "nbformat": 4,
 "nbformat_minor": 4
}
