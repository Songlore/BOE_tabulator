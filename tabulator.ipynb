{
 "cells": [
  {
   "cell_type": "markdown",
   "metadata": {},
   "source": [
    "# Board of Estimates Tabulator  \n",
    "The purpose of this software tool is to use the pdf files that store the minutes of Baltimore's Board of Estimates to create a small database with linked tables for entities that could possibly include:\n",
    "\n",
    "- meetings \n",
    "- agreements\n",
    "- contracts\n",
    "- contractors \n",
    "- personnel\n",
    "- reclassifications"
   ]
  },
  {
   "cell_type": "markdown",
   "metadata": {},
   "source": [
    "## Setup\n",
    "### Import packages"
   ]
  },
  {
   "cell_type": "code",
   "execution_count": 1,
   "metadata": {},
   "outputs": [],
   "source": [
    "from datetime import datetime\n",
    "import pandas as pd\n",
    "import requests\n",
    "from bs4 import BeautifulSoup\n",
    "import re\n",
    "from pathlib import Path\n",
    "import time \n",
    "\n",
    "from utils import *"
   ]
  },
  {
   "cell_type": "markdown",
   "metadata": {},
   "source": [
    "Improvements needed for function `get_boe_pdfs`:\n",
    "\n",
    "- Report errors more accurately \n",
    "- Get current year dynamically"
   ]
  },
  {
   "cell_type": "markdown",
   "metadata": {},
   "source": [
    "### Try out a key bit of syntax  \n",
    "Since we will need to transform months into numbers, this bit of syntax is good to bear in mind."
   ]
  },
  {
   "cell_type": "code",
   "execution_count": 2,
   "metadata": {},
   "outputs": [
    {
     "data": {
      "text/plain": [
       "11"
      ]
     },
     "execution_count": 2,
     "metadata": {},
     "output_type": "execute_result"
    }
   ],
   "source": [
    "time.strptime(\"November\", \"%B\").tm_mon"
   ]
  },
  {
   "cell_type": "markdown",
   "metadata": {},
   "source": [
    "### Store PDFs to local directory  \n",
    "The following code downloads all the .pdf files with minutes from the Board of Estimates and saves them in your local version of this repository. \n",
    "\n",
    "The tricky part of this is getting a correct date for every file. Some files have a typo somewhere in html, so the functions `store_boe_pdfs()` and  `parse_long_dates()` are built to handle these errors. We may see new types of errors appear in the future, however."
   ]
  },
  {
   "cell_type": "code",
   "execution_count": 3,
   "metadata": {},
   "outputs": [
    {
     "name": "stdout",
     "output_type": "stream",
     "text": [
      "Saving files from url: https://comptroller.baltimorecity.gov//minutes-2009\n",
      "Saving files from url: https://comptroller.baltimorecity.gov//minutes-2010\n",
      "Saving files from url: https://comptroller.baltimorecity.gov//minutes-2011\n",
      "Saving files from url: https://comptroller.baltimorecity.gov//minutes-2012\n",
      "Saving files from url: https://comptroller.baltimorecity.gov//minutes-2013\n",
      "Saving files from url: https://comptroller.baltimorecity.gov//minutes-2014\n",
      "Saving files from url: https://comptroller.baltimorecity.gov//minutes-2015\n",
      "Saving files from url: https://comptroller.baltimorecity.gov//minutes-2016-0\n",
      "Saving files from url: https://comptroller.baltimorecity.gov//boe/meetings/minutes\n",
      "Saving files from url: https://comptroller.baltimorecity.gov//minutes-2018\n",
      "Saving files from url: https://comptroller.baltimorecity.gov//2019\n",
      "Saving files from url: https://comptroller.baltimorecity.gov//minutes-2020\n",
      "Wrote 512 .pdf files to local repo.\n"
     ]
    }
   ],
   "source": [
    "base_url = \"https://comptroller.baltimorecity.gov/\"\n",
    "minutes_url = base_url + \"boe/meetings/minutes\"\n",
    "\n",
    "store_boe_pdfs(base_url, minutes_url)"
   ]
  },
  {
   "cell_type": "markdown",
   "metadata": {},
   "source": [
    "## Process and prepare data\n",
    "### Create table with full texts  \n",
    "Note that for testing purposes we're processing the data from the year 2009 only."
   ]
  },
  {
   "cell_type": "code",
   "execution_count": 4,
   "metadata": {},
   "outputs": [
    {
     "name": "stderr",
     "output_type": "stream",
     "text": [
      "PdfReadWarning: Xref table not zero-indexed. ID numbers for objects will be corrected. [pdf.py:1736]\n"
     ]
    },
    {
     "name": "stdout",
     "output_type": "stream",
     "text": [
      "Wrote 44 rows to the table of minutes.\n"
     ]
    }
   ],
   "source": [
    "root = Path.cwd()\n",
    "pdf_dir = root / \"pdf_files\" / \"2009\"\n",
    "\n",
    "text_df = store_pdf_text_to_df(pdf_dir)"
   ]
  },
  {
   "cell_type": "code",
   "execution_count": 5,
   "metadata": {},
   "outputs": [
    {
     "data": {
      "text/html": [
       "<div>\n",
       "<style scoped>\n",
       "    .dataframe tbody tr th:only-of-type {\n",
       "        vertical-align: middle;\n",
       "    }\n",
       "\n",
       "    .dataframe tbody tr th {\n",
       "        vertical-align: top;\n",
       "    }\n",
       "\n",
       "    .dataframe thead th {\n",
       "        text-align: right;\n",
       "    }\n",
       "</style>\n",
       "<table border=\"1\" class=\"dataframe\">\n",
       "  <thead>\n",
       "    <tr style=\"text-align: right;\">\n",
       "      <th></th>\n",
       "      <th>date</th>\n",
       "      <th>page_number</th>\n",
       "      <th>minutes</th>\n",
       "    </tr>\n",
       "  </thead>\n",
       "  <tbody>\n",
       "    <tr>\n",
       "      <th>4</th>\n",
       "      <td>2009-05-27</td>\n",
       "      <td>1796</td>\n",
       "      <td>1796 BOARD OF ESTIMATES                       ...</td>\n",
       "    </tr>\n",
       "    <tr>\n",
       "      <th>32</th>\n",
       "      <td>2009-09-02</td>\n",
       "      <td>3299</td>\n",
       "      <td>3299  BOARD OF ESTIMATES                      ...</td>\n",
       "    </tr>\n",
       "    <tr>\n",
       "      <th>21</th>\n",
       "      <td>2009-06-17</td>\n",
       "      <td>2159</td>\n",
       "      <td>2159 BOARD OF ESTIMATES                       ...</td>\n",
       "    </tr>\n",
       "    <tr>\n",
       "      <th>28</th>\n",
       "      <td>2009-12-16</td>\n",
       "      <td>4661</td>\n",
       "      <td>4661  BOARD OF ESTIMATES                      ...</td>\n",
       "    </tr>\n",
       "    <tr>\n",
       "      <th>5</th>\n",
       "      <td>2009-07-22</td>\n",
       "      <td>2683</td>\n",
       "      <td>2683 BOARD OF ESTIMATES                       ...</td>\n",
       "    </tr>\n",
       "    <tr>\n",
       "      <th>42</th>\n",
       "      <td>2009-02-25</td>\n",
       "      <td>593</td>\n",
       "      <td>593 BOARD OF ESTIMATES  February 25, 2009  MIN...</td>\n",
       "    </tr>\n",
       "  </tbody>\n",
       "</table>\n",
       "</div>"
      ],
      "text/plain": [
       "          date page_number                                            minutes\n",
       "4   2009-05-27        1796  1796 BOARD OF ESTIMATES                       ...\n",
       "32  2009-09-02        3299  3299  BOARD OF ESTIMATES                      ...\n",
       "21  2009-06-17        2159  2159 BOARD OF ESTIMATES                       ...\n",
       "28  2009-12-16        4661  4661  BOARD OF ESTIMATES                      ...\n",
       "5   2009-07-22        2683  2683 BOARD OF ESTIMATES                       ...\n",
       "42  2009-02-25         593  593 BOARD OF ESTIMATES  February 25, 2009  MIN..."
      ]
     },
     "execution_count": 5,
     "metadata": {},
     "output_type": "execute_result"
    }
   ],
   "source": [
    "text_df.sample(6, random_state=444)"
   ]
  },
  {
   "cell_type": "markdown",
   "metadata": {},
   "source": [
    "### Replace erroneous characters and consolidate white spaces\n",
    "Not sure if decision to transform all multiple white spaces to a single white space will work for the long term, but currently that's what we're doing."
   ]
  },
  {
   "cell_type": "code",
   "execution_count": 6,
   "metadata": {},
   "outputs": [],
   "source": [
    "def replace_chars(val):\n",
    "    val = ' '.join(val.split())\n",
    "    val = val.replace('™', \"'\")\n",
    "    val = val.replace('Œ', \"-\")\n",
    "    return val\n",
    "\n",
    "text_df['minutes_fixed'] = text_df['minutes'].apply(replace_chars)"
   ]
  },
  {
   "cell_type": "code",
   "execution_count": 12,
   "metadata": {},
   "outputs": [
    {
     "name": "stdout",
     "output_type": "stream",
     "text": [
      "1721 BOARD OF ESTIMATES May 20, 2009 MINUTES REGULAR MEETING Stephanie Rawlings-Blake, President Sheila Dixon, Mayor - ABSENT Joan M. Pratt, Comptroller and Secretary George A. Nilson, City Solicitor Donald Huskey, Deputy City Solicitor David E. Scott, Director of Public Works Ben Meli, Deputy Director of Public Works Bernice H. Taylor, Deputy Comptroller, and Clerk The meeting was called to order by the President. Pursuant to Article VI, Section 1(c) of the revised City Charter effective July 1\n"
     ]
    }
   ],
   "source": [
    "# view a sample of the transformed text\n",
    "print(text_df['minutes_fixed'][0][0:500])"
   ]
  },
  {
   "cell_type": "markdown",
   "metadata": {},
   "source": [
    "## Tabulate data\n",
    "### Create empty dataframes"
   ]
  },
  {
   "cell_type": "code",
   "execution_count": 8,
   "metadata": {},
   "outputs": [],
   "source": [
    "def create_dateframes():\n",
    "    meetings_df = pd.DataFrame(\n",
    "        columns=[\"date\", \"president\", \"mayor\", \"no_of_protests\", \"no_of_settlements\"]\n",
    "    )\n",
    "    agreements_df = pd.DataFrame(\n",
    "        columns=[\"date\", \"department\", \"contractor\", \"account_number\", \"agreement\"]\n",
    "    )\n",
    "    \n",
    "    return meetings_df, agreements_df\n",
    "\n",
    "agreements_df, meetings_df = create_dateframes()"
   ]
  },
  {
   "cell_type": "code",
   "execution_count": 13,
   "metadata": {},
   "outputs": [
    {
     "name": "stdout",
     "output_type": "stream",
     "text": [
      "None\n"
     ]
    }
   ],
   "source": [
    "account_lookup = r\"\\d{4}-\\d{6}-\\d{4}-\\d{6}-\\d{6}\"\n",
    "#department_lookup = r\"^.+?(?=–|-.*Agreements)\"\n",
    "#department_lookup = r\"(?<=MINUTES).+?(?=(\\s–|-\\s).*)\"\n",
    "department_lookup = r\"(?<=MINUTES).+(?=(\\s-\\s))\"\n",
    "\n",
    "#^.+?(?=(\\s–|-\\s).*Agreements)\n",
    "\n",
    "\n",
    "sample_minutes = text_df['minutes_fixed'][1]\n",
    "print(re.fullmatch(re.compile(department_lookup), sample_minutes))"
   ]
  },
  {
   "cell_type": "code",
   "execution_count": 10,
   "metadata": {},
   "outputs": [
    {
     "ename": "NameError",
     "evalue": "name 'account_matches' is not defined",
     "output_type": "error",
     "traceback": [
      "\u001b[0;31m---------------------------------------------------------------------------\u001b[0m",
      "\u001b[0;31mNameError\u001b[0m                                 Traceback (most recent call last)",
      "\u001b[0;32m<ipython-input-10-1f8f9334c084>\u001b[0m in \u001b[0;36m<module>\u001b[0;34m\u001b[0m\n\u001b[0;32m----> 1\u001b[0;31m \u001b[0maccount_matches\u001b[0m\u001b[0;34m\u001b[0m\u001b[0;34m\u001b[0m\u001b[0m\n\u001b[0m",
      "\u001b[0;31mNameError\u001b[0m: name 'account_matches' is not defined"
     ]
    }
   ],
   "source": [
    "account_matches"
   ]
  }
 ],
 "metadata": {
  "kernelspec": {
   "display_name": "Python 3",
   "language": "python",
   "name": "python3"
  },
  "language_info": {
   "codemirror_mode": {
    "name": "ipython",
    "version": 3
   },
   "file_extension": ".py",
   "mimetype": "text/x-python",
   "name": "python",
   "nbconvert_exporter": "python",
   "pygments_lexer": "ipython3",
   "version": "3.6.10"
  },
  "toc": {
   "base_numbering": 1,
   "nav_menu": {},
   "number_sections": true,
   "sideBar": true,
   "skip_h1_title": true,
   "title_cell": "Table of Contents",
   "title_sidebar": "Contents",
   "toc_cell": false,
   "toc_position": {
    "height": "calc(100% - 180px)",
    "left": "10px",
    "top": "150px",
    "width": "239.549px"
   },
   "toc_section_display": true,
   "toc_window_display": true
  }
 },
 "nbformat": 4,
 "nbformat_minor": 4
}
